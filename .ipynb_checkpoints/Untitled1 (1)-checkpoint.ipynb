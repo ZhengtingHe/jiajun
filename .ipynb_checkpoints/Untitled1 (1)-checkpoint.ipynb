{
 "cells": [
  {
   "cell_type": "code",
   "execution_count": 23,
   "metadata": {},
   "outputs": [
    {
     "data": {
      "text/plain": [
       "[<matplotlib.lines.Line2D at 0x22942c94760>]"
      ]
     },
     "execution_count": 23,
     "metadata": {},
     "output_type": "execute_result"
    },
    {
     "data": {
      "image/png": "[encoded data removed]",
      "text/plain": [
       "<Figure size 432x288 with 1 Axes>"
      ]
     },
     "metadata": {
      "needs_background": "light"
     },
     "output_type": "display_data"
    }
   ],
   "source": [
    "import numpy as np\n",
    "import math\n",
    "import matplotlib.pyplot as plt\n",
    "ai = 5\n",
    "bi = 3\n",
    "r = []\n",
    "nx = np.arange(0,100,1)\n",
    "Fljx=[]\n",
    "Fljz=[]\n",
    "epsilon = 0.3450\n",
    "sigma = 2.644\n",
    "Ftot = []\n",
    "for j in range(100):\n",
    "        \n",
    "        r.append(math.sqrt((nx[j]-ai)**2 + bi**2))\n",
    "        #if r[j]>9:\n",
    "            #continue\n",
    "        #print(r)\n",
    "        Fljx.append(-1*((nx[j]-ai)/r[j]) * (epsilon* ((48*(sigma**12)/(r[j]**13)) - (24*(sigma**6)/(r[j]**7)))   ))\n",
    "        \n",
    "        Fljz.append(-1*(bi/r[j]) * (epsilon* ((48*(sigma**12)/(r[j]**13)) - (24*(sigma**6)/(r[j]**7)))   ))\n",
    "\n",
    "        Ftot.append(math.sqrt(Fljx[j]**2 + Fljz[j]**2))\n",
    "        \n",
    "        Fljx_sum = -1*sum(Fljx)\n",
    "        Fljz_sum = -1*sum(Fljz)\n",
    "        \n",
    "plt.plot(Ftot,r)"
   ]
  },
  {
   "cell_type": "code",
   "execution_count": 37,
   "metadata": {},
   "outputs": [
    {
     "data": {
      "text/plain": [
       "[<matplotlib.lines.Line2D at 0x229441d8f10>]"
      ]
     },
     "execution_count": 37,
     "metadata": {},
     "output_type": "execute_result"
    },
    {
     "data": {
      "image/png": "[encoded data removed]",
      "text/plain": [
       "<Figure size 432x288 with 1 Axes>"
      ]
     },
     "metadata": {
      "needs_background": "light"
     },
     "output_type": "display_data"
    }
   ],
   "source": [
    "import numpy as np\n",
    "import math\n",
    "import matplotlib.pyplot as plt\n",
    "ai = 5\n",
    "bi = 3\n",
    "#r = []\n",
    "nx = np.arange(0,1000,1)\n",
    "Flj=[]\n",
    "Fljz=[]\n",
    "epsilon = 0.3450\n",
    "sigma = 2.644\n",
    "Ftot = []\n",
    "#for j in range(1000):\n",
    "        \n",
    "        #r.append(math.sqrt((nx[j]-ai)**2 + bi**2))\n",
    "        #if r[j]>9:\n",
    "            #continue\n",
    "        #print(r)\n",
    "        #Flj.append((epsilon* ((48*(sigma**12)/(r[j]**13)) - (24*(sigma**6)/(r[j]**7)))   ))\n",
    "        \n",
    "\n",
    "\n",
    "        #Ftot.append(math.sqrt(Fljx[j]**2 + Fljz[j]**2))\n",
    "        \n",
    "        #Fljx_sum = -1*sum(Fljx)\n",
    "        #Fljz_sum = -1*sum(Fljz)\n",
    "        \n",
    "#plt.plot(Flj,r)\n",
    "def force(r):\n",
    "    return (epsilon* ((48*(sigma**12)/(r**13)) - (24*(sigma**6)/(r**7)))   )\n",
    "\n",
    "\n",
    "\n",
    "r = np.linspace(2,10,1000)\n",
    "plt.plot(r,force(r))\n"
   ]
  },
  {
   "cell_type": "markdown",
   "metadata": {},
   "source": [
    "$$\n",
    "\\mathbf{F}(r)=-\\nabla V(r)=-\\frac{d V(r)}{d r} \\hat{\\mathbf{r}}=4 \\epsilon\\left(12 \\frac{\\sigma^{12}}{r^{13}}-6 \\frac{\\sigma^{6}}{r^{7}}\\right) \\hat{\\mathbf{r}}\n",
    "$$"
   ]
  },
  {
   "cell_type": "code",
   "execution_count": 11,
   "metadata": {},
   "outputs": [
    {
     "data": {
      "image/png": "[encoded data removed]",
      "text/plain": [
       "<Figure size 432x288 with 1 Axes>"
      ]
     },
     "metadata": {
      "needs_background": "light"
     },
     "output_type": "display_data"
    },
    {
     "name": "stdout",
     "output_type": "stream",
     "text": [
      "879\n"
     ]
    }
   ],
   "source": [
    "import numpy as np\n",
    "import math\n",
    "import matplotlib.pyplot as plt\n",
    "#ai = 5\n",
    "#bi = 3\n",
    "#r = []\n",
    "nx = np.arange(0,1000,1)\n",
    "#Flj=[]\n",
    "#Fljz=[]\n",
    "epsilon = 0.3450\n",
    "sigma = 2.644\n",
    "\n",
    "\n",
    "def force(r):\n",
    "    return epsilon*(48*(sigma**12)) * (r**-13) - epsilon*(24*(sigma**6) * (r**-7))\n",
    "r = np.linspace(2,10,1000)\n",
    "def LJ_force(r):\n",
    "    return 4 * epsilon * (12 * (sigma**12/r**13)- 6 * (sigma**6/r**7))\n",
    "#plt.plot(r,force(r))\n",
    "plt.plot(r,LJ_force(r))\n",
    "plt.grid()\n",
    "#plt.yscale('log')\n",
    "plt.show()\n",
    "print(np.sum(LJ_force(r)<0))"
   ]
  },
  {
   "cell_type": "code",
   "execution_count": 15,
   "metadata": {},
   "outputs": [
    {
     "data": {
      "image/png": "[encoded data removed]",
      "text/plain": [
       "<Figure size 432x288 with 1 Axes>"
      ]
     },
     "metadata": {
      "needs_background": "light"
     },
     "output_type": "display_data"
    }
   ],
   "source": [
    "plt.plot(r[-100:],-LJ_force(r)[-100:])\n",
    "plt.grid()\n",
    "plt.yscale('log')\n",
    "plt.show()"
   ]
  },
  {
   "cell_type": "code",
   "execution_count": null,
   "metadata": {},
   "outputs": [],
   "source": []
  }
 ],
 "metadata": {
  "kernelspec": {
   "display_name": "Python 3 (ipykernel)",
   "language": "python",
   "name": "python3"
  },
  "language_info": {
   "codemirror_mode": {
    "name": "ipython",
    "version": 3
   },
   "file_extension": ".py",
   "mimetype": "text/x-python",
   "name": "python",
   "nbconvert_exporter": "python",
   "pygments_lexer": "ipython3",
   "version": "3.10.4"
  }
 },
 "nbformat": 4,
 "nbformat_minor": 4
}
